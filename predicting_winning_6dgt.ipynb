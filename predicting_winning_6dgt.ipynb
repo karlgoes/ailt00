{
 "cells": [
  {
   "cell_type": "markdown",
   "id": "1d593bd7-4d14-42e9-b0a5-f296f640368b",
   "metadata": {},
   "source": [
    "### Dependency and Loading model"
   ]
  },
  {
   "cell_type": "code",
   "execution_count": 5,
   "id": "55fffcfc-2053-4013-9662-f5f857234a85",
   "metadata": {},
   "outputs": [],
   "source": [
    "import os\n",
    "import tensorflow as tf\n",
    "import numpy as np\n",
    "from tensorflow.keras.models import load_model\n",
    "\n",
    "# Load the trained model\n",
    "model = load_model('model_lstm_i5_7_i1_6.h5')  # Replace with the actual path to your trained model"
   ]
  },
  {
   "cell_type": "markdown",
   "id": "b953d01d-aff5-4d97-9d1c-3afa27e65434",
   "metadata": {},
   "source": [
    "### Aquire input data for inferencing and Normaliztion\n",
    "- 'input_data_0000.csv' is the file for input\n",
    "- converting csv file to numpy array as type float\n",
    "- Preprocess the input_data if necessary (scaling, normalization, etc.)\n",
    "  - Scaler_X is for normalizing"
   ]
  },
  {
   "cell_type": "code",
   "execution_count": 7,
   "id": "72ca0a4d-43c9-423a-9174-92af6b9d74b0",
   "metadata": {
    "scrolled": true
   },
   "outputs": [
    {
     "name": "stdout",
     "output_type": "stream",
     "text": [
      "[[[0.26666667 0.35555556 0.46666667 0.53333333 0.91111111 0.95555556\n",
      "   0.33333333]\n",
      "  [0.31111111 0.73333333 0.75555556 0.77777778 0.82222222 0.88888889\n",
      "   0.08888889]\n",
      "  [0.02222222 0.26666667 0.35555556 0.42222222 0.51111111 0.95555556\n",
      "   0.75555556]\n",
      "  [0.17777778 0.31111111 0.62222222 0.64444444 0.75555556 0.88888889\n",
      "   0.26666667]\n",
      "  [0.13333333 0.15555556 0.33333333 0.48888889 0.57777778 0.88888889\n",
      "   0.91111111]]] <class 'numpy.ndarray'>\n"
     ]
    }
   ],
   "source": [
    "data_path = './data_sets'\n",
    "\n",
    "input_file = os.path.join(data_path, f'input_data_0000.csv')\n",
    "input_data = np.genfromtxt(input_file, delimiter=',', dtype=int)\n",
    "\n",
    "# Convert the data to NumPy arrays\n",
    "input_data = np.array(input_data, dtype=float)\n",
    "\n",
    "scaler_X = 45.0\n",
    "input_data = input_data/scaler_X\n",
    "input_data = input_data.reshape(-1, 5, 7)\n",
    "\n",
    "print(input_data, type(input_data))"
   ]
  },
  {
   "cell_type": "markdown",
   "id": "db4ab201-4393-4f8e-8431-7b0b187c1bf1",
   "metadata": {},
   "source": [
    "### Use the model to predict the output_data"
   ]
  },
  {
   "cell_type": "code",
   "execution_count": 9,
   "id": "081ca2bc-b2e8-43dd-a478-6390c6459d6b",
   "metadata": {},
   "outputs": [
    {
     "name": "stdout",
     "output_type": "stream",
     "text": [
      "1/1 [==============================] - 0s 15ms/step\n",
      "Input Data:\n",
      "[[[0.26666667 0.35555556 0.46666667 0.53333333 0.91111111 0.95555556\n",
      "   0.33333333]\n",
      "  [0.31111111 0.73333333 0.75555556 0.77777778 0.82222222 0.88888889\n",
      "   0.08888889]\n",
      "  [0.02222222 0.26666667 0.35555556 0.42222222 0.51111111 0.95555556\n",
      "   0.75555556]\n",
      "  [0.17777778 0.31111111 0.62222222 0.64444444 0.75555556 0.88888889\n",
      "   0.26666667]\n",
      "  [0.13333333 0.15555556 0.33333333 0.48888889 0.57777778 0.88888889\n",
      "   0.91111111]]]\n",
      "Predicted Output(float):\n",
      "[[0.2618189  0.41059437 0.5858117  0.709192   0.8216957  0.92097324]]\n",
      "Predicted Output(float*45):\n",
      "[[11.78185  18.476748 26.361525 31.91364  36.976307 41.443794]]\n",
      "Predicted Output(rounded-up):\n",
      "[[12. 18. 26. 32. 37. 41.]]\n"
     ]
    }
   ],
   "source": [
    "predicted_output = model.predict(input_data)\n",
    "\n",
    "# Postprocess the predicted output_data if necessary\n",
    "# predicted_output = postprocess_output(predicted_output)\n",
    "\n",
    "# Print the results\n",
    "print('Input Data:')\n",
    "print(input_data)\n",
    "\n",
    "print('Predicted Output(float):')\n",
    "print(predicted_output)\n",
    "\n",
    "predicted_output = predicted_output * 45\n",
    "print('Predicted Output(float*45):')\n",
    "print(predicted_output)\n",
    "\n",
    "predicted_output = np.round(predicted_output)\n",
    "print('Predicted Output(rounded-up):')\n",
    "print(predicted_output)"
   ]
  }
 ],
 "metadata": {
  "kernelspec": {
   "display_name": "ailt00",
   "language": "python",
   "name": "ailt00"
  },
  "language_info": {
   "codemirror_mode": {
    "name": "ipython",
    "version": 3
   },
   "file_extension": ".py",
   "mimetype": "text/x-python",
   "name": "python",
   "nbconvert_exporter": "python",
   "pygments_lexer": "ipython3",
   "version": "3.10.12"
  }
 },
 "nbformat": 4,
 "nbformat_minor": 5
}
