{
 "cells": [
  {
   "cell_type": "code",
   "execution_count": 1,
   "id": "636a922a-8359-4a88-98a8-5258aa092fb3",
   "metadata": {},
   "outputs": [
    {
     "name": "stderr",
     "output_type": "stream",
     "text": [
      "2023-12-21 13:27:41.046357: I external/local_tsl/tsl/cuda/cudart_stub.cc:31] Could not find cuda drivers on your machine, GPU will not be used.\n",
      "2023-12-21 13:27:41.094088: E external/local_xla/xla/stream_executor/cuda/cuda_dnn.cc:9261] Unable to register cuDNN factory: Attempting to register factory for plugin cuDNN when one has already been registered\n",
      "2023-12-21 13:27:41.094168: E external/local_xla/xla/stream_executor/cuda/cuda_fft.cc:607] Unable to register cuFFT factory: Attempting to register factory for plugin cuFFT when one has already been registered\n",
      "2023-12-21 13:27:41.094839: E external/local_xla/xla/stream_executor/cuda/cuda_blas.cc:1515] Unable to register cuBLAS factory: Attempting to register factory for plugin cuBLAS when one has already been registered\n",
      "2023-12-21 13:27:41.101240: I external/local_tsl/tsl/cuda/cudart_stub.cc:31] Could not find cuda drivers on your machine, GPU will not be used.\n",
      "2023-12-21 13:27:41.101983: I tensorflow/core/platform/cpu_feature_guard.cc:182] This TensorFlow binary is optimized to use available CPU instructions in performance-critical operations.\n",
      "To enable the following instructions: AVX2, in other operations, rebuild TensorFlow with the appropriate compiler flags.\n",
      "2023-12-21 13:27:41.692073: W tensorflow/compiler/tf2tensorrt/utils/py_utils.cc:38] TF-TRT Warning: Could not find TensorRT\n"
     ]
    }
   ],
   "source": [
    "import os\n",
    "import pandas as pd\n",
    "import numpy as np\n",
    "import tensorflow as tf\n",
    "from sklearn.model_selection import train_test_split\n",
    "from sklearn.preprocessing import StandardScaler\n",
    "from tensorflow.keras.models import Sequential\n",
    "from tensorflow.keras.layers import LSTM, Dense"
   ]
  },
  {
   "cell_type": "code",
   "execution_count": null,
   "id": "326a30a2-08f8-45ad-a90b-c2371622db43",
   "metadata": {},
   "outputs": [],
   "source": [
    "# Load all datasets from './data_sets'\n",
    "data_path = './data_sets'\n",
    "input_datasets = []\n",
    "output_datasets = []\n",
    "\n",
    "# Assuming your files are named input_data_1.csv, input_data_2.csv, ..., output_data_1.csv, output_data_2.csv, ...\n",
    "for i in range(1, 501):\n",
    "    input_file = os.path.join(data_path, f'input_data_{i}.csv')\n",
    "    output_file = os.path.join(data_path, f'output_data_{i}.csv')\n",
    "\n",
    "    # Load data using pandas\n",
    "    input_data = pd.read_csv(input_file).values\n",
    "    output_data = pd.read_csv(output_file).values\n",
    "\n",
    "    input_datasets.append(input_data)\n",
    "    output_datasets.append(output_data)"
   ]
  },
  {
   "cell_type": "code",
   "execution_count": null,
   "id": "95b0ba3c-edff-47e5-b1dc-4c29272a4740",
   "metadata": {},
   "outputs": [],
   "source": [
    "# Convert the data to NumPy arrays\n",
    "X = np.array(input_datasets, dtype=float)\n",
    "y = np.array(output_datasets, dtype=float)\n",
    "\n",
    "# Reshape y to be a 2D array\n",
    "y = y.reshape(-1, 1)\n",
    "\n",
    "# Normalize the input data\n",
    "scaler_X = StandardScaler()\n",
    "X = scaler_X.fit_transform(X)\n",
    "\n",
    "# Normalize the output data\n",
    "scaler_y = StandardScaler()\n",
    "y = scaler_y.fit_transform(y)\n",
    "\n",
    "# Split the dataset into training and testing sets\n",
    "X_train, X_test, y_train, y_test = train_test_split(X, y, test_size=0.2, random_state=42)\n",
    "\n",
    "# Build a simple LSTM regression model\n",
    "model = Sequential()\n",
    "model.add(LSTM(50, activation='relu', input_shape=(X_train.shape[1], X_train.shape[2])))\n",
    "model.add(Dense(1))  # Output layer with one neuron for regression\n",
    "model.compile(optimizer='adam', loss='mse')  # Mean Squared Error loss for regression\n",
    "\n",
    "# Train the model\n",
    "model.fit(X_train, y_train, epochs=50, batch_size=1, verbose=1, validation_data=(X_test, y_test))\n",
    "\n",
    "# Evaluate the model\n",
    "loss = model.evaluate(X_test, y_test, verbose=0)\n",
    "print(f'Mean Squared Error on Test Set: {loss}')\n",
    "\n",
    "# Make predictions\n",
    "predictions = model.predict(X_test)\n",
    "\n",
    "# Inverse transform the predictions to original scale\n",
    "predictions = scaler_y.inverse_transform(predictions)\n",
    "\n",
    "# Print the predictions\n",
    "print('Predictions:')\n",
    "print(predictions)"
   ]
  }
 ],
 "metadata": {
  "kernelspec": {
   "display_name": "ailt00",
   "language": "python",
   "name": "ailt00"
  },
  "language_info": {
   "codemirror_mode": {
    "name": "ipython",
    "version": 3
   },
   "file_extension": ".py",
   "mimetype": "text/x-python",
   "name": "python",
   "nbconvert_exporter": "python",
   "pygments_lexer": "ipython3",
   "version": "3.10.12"
  }
 },
 "nbformat": 4,
 "nbformat_minor": 5
}
